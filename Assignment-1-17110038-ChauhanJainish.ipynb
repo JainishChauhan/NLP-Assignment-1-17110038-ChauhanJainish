{
 "cells": [
  {
   "cell_type": "code",
   "execution_count": 31,
   "metadata": {},
   "outputs": [
    {
     "name": "stderr",
     "output_type": "stream",
     "text": [
      "[nltk_data] Downloading package wordnet to /Users/jainish/nltk_data...\n",
      "[nltk_data]   Package wordnet is already up-to-date!\n"
     ]
    },
    {
     "name": "stdout",
     "output_type": "stream",
     "text": [
      "Ans-1:\n",
      "No. of tokens = 329312\n",
      "No. of types = 45852\n",
      "TTR = 0.13923573996696142\n"
     ]
    }
   ],
   "source": [
    "'''\n",
    "NLP-assignment-1\n",
    "Chauhan Jainish\n",
    "17110038\n",
    "'''\n",
    "\n",
    "import nltk,csv,numpy\n",
    "import re\n",
    "import collections\n",
    "import matplotlib.pyplot as plt \n",
    "import math \n",
    "from nltk.corpus import wordnet  \n",
    "from scipy.optimize import curve_fit \n",
    "nltk.download('wordnet')\n",
    "\n",
    "from nltk import word_tokenize, pos_tag\n",
    "reader = csv.reader(open('tweets-dataset.csv'), delimiter= \",\",quotechar='|')\n",
    "tokens=[]\n",
    "for line in reader:\n",
    "    for field in line:\n",
    "        line_tokens_raw=re.sub('[^A-Za-z]+', ' ', field)\n",
    "        line_tokens=word_tokenize(line_tokens_raw)\n",
    "        for i in line_tokens:\n",
    "            tokens.append(i)\n",
    "typee=set(tokens)\n",
    "print(\"Ans-1:\")\n",
    "print (\"No. of tokens = \" + str(len(tokens)))\n",
    "print (\"No. of types = \" + str(len(typee)))\n",
    "print (\"TTR = \" + str(len(typee)/len(tokens)))\n"
   ]
  },
  {
   "cell_type": "code",
   "execution_count": 36,
   "metadata": {},
   "outputs": [
    {
     "data": {
      "image/png": "[encoded data removed]",
      "text/plain": [
       "<Figure size 432x288 with 1 Axes>"
      ]
     },
     "metadata": {
      "needs_background": "light"
     },
     "output_type": "display_data"
    },
    {
     "name": "stdout",
     "output_type": "stream",
     "text": [
      "Ans-3: Beta = 0.6513678043912512, K= 11.776259871979986\n"
     ]
    }
   ],
   "source": [
    "corpus=[i for i in range(0,329312,1000)]\n",
    "vocab=[len(set(tokens[0:i])) for i in corpus]\n",
    "def test(corpus, K, beta): \n",
    "    return K*(corpus**beta)\n",
    "param, param_cov = curve_fit(test, corpus, vocab) \n",
    "\n",
    "plt.scatter(corpus,vocab)\n",
    "plt.title(\"Heap's law\")\n",
    "plt.xlabel(\"N\")\n",
    "plt.ylabel(\"V\")\n",
    "plt.show()\n",
    "\n",
    "print(\"Ans-3: Beta = \"+str(param[1])+\", K= \"+str(param[0]))"
   ]
  },
  {
   "cell_type": "code",
   "execution_count": 37,
   "metadata": {},
   "outputs": [
    {
     "name": "stdout",
     "output_type": "stream",
     "text": [
      "Ans-2a: m = 5.67 * f^0.3369394914703158\n"
     ]
    },
    {
     "data": {
      "image/png": "[encoded data removed]",
      "text/plain": [
       "<Figure size 432x288 with 1 Axes>"
      ]
     },
     "metadata": {
      "needs_background": "light"
     },
     "output_type": "display_data"
    }
   ],
   "source": [
    "tokens_count={ }\n",
    "for word in tokens:\n",
    "    if word not in tokens_count:\n",
    "        tokens_count[word]=1\n",
    "    else:\n",
    "        tokens_count[word]=tokens_count[word]+1\n",
    "\n",
    "sorted_dict = sorted(tokens_count.items(), key=lambda kv: kv[1])\n",
    "sp_list=[sorted_dict[0],sorted_dict[45011],sorted_dict[30000],sorted_dict[34250],sorted_dict[45230],sorted_dict[45050],sorted_dict[40111],sorted_dict[200],sorted_dict[23459],sorted_dict[43498],sorted_dict[41200],sorted_dict[14289],sorted_dict[32200],sorted_dict[11200],sorted_dict[45292]]\n",
    "frequencies=[]\n",
    "meanings=[]\n",
    "for i in sp_list:\n",
    "    frequencies.append(tokens_count[i[0]])\n",
    "    synonyms = []  \n",
    "    for syn in wordnet.synsets(i[0]): \n",
    "        for l in syn.lemmas(): \n",
    "            synonyms.append(l.name())\n",
    "    meanings.append(len(set(synonyms)))\n",
    "\n",
    "def test(frequencies, a, b): \n",
    "    return a*(frequencies**b)\n",
    "param, param_cov = curve_fit(test, frequencies, meanings)    \n",
    "\n",
    "plt.scatter(frequencies, meanings)\n",
    "plt.title(\"Zipf's law for frequency and meaninigs\")\n",
    "plt.xlabel(\"m\")\n",
    "plt.ylabel(\"f\")\n",
    "\n",
    "print(\"Ans-2a: m = 5.67 * f^\"+str(param[1]))"
   ]
  },
  {
   "cell_type": "code",
   "execution_count": 30,
   "metadata": {},
   "outputs": [
    {
     "name": "stdout",
     "output_type": "stream",
     "text": [
      "Ans: f*l = [52.98006593]\n"
     ]
    },
    {
     "data": {
      "image/png": "[encoded data removed]",
      "text/plain": [
       "<Figure size 432x288 with 1 Axes>"
      ]
     },
     "metadata": {
      "needs_background": "light"
     },
     "output_type": "display_data"
    }
   ],
   "source": [
    "lengths=[]\n",
    "freq=[]\n",
    "for i in sorted_dict:\n",
    "    lengths.append(len(i[0]))\n",
    "    freq.append(tokens_count[i[0]])\n",
    "    \n",
    "def test(lengths, a): \n",
    "    return a/lengths\n",
    "param, param_cov = curve_fit(test, lengths, freq)\n",
    "\n",
    "plt.scatter(freq,lengths)\n",
    "plt.title(\"Zipf's law for frq\")\n",
    "plt.xlabel(\"N\")\n",
    "plt.ylabel(\"V\")\n",
    "\n",
    "print (\"Ans-2b: f*l = \"+str(param))"
   ]
  },
  {
   "cell_type": "code",
   "execution_count": null,
   "metadata": {},
   "outputs": [],
   "source": []
  }
 ],
 "metadata": {
  "kernelspec": {
   "display_name": "Python 3",
   "language": "python",
   "name": "python3"
  },
  "language_info": {
   "codemirror_mode": {
    "name": "ipython",
    "version": 3
   },
   "file_extension": ".py",
   "mimetype": "text/x-python",
   "name": "python",
   "nbconvert_exporter": "python",
   "pygments_lexer": "ipython3",
   "version": "3.7.1"
  }
 },
 "nbformat": 4,
 "nbformat_minor": 2
}
